{
 "cells": [
  {
   "cell_type": "markdown",
   "metadata": {},
   "source": [
    "Import Libraries"
   ]
  },
  {
   "cell_type": "code",
   "execution_count": 3,
   "metadata": {},
   "outputs": [],
   "source": [
    "from bs4 import BeautifulSoup\n",
    "import requests\n",
    "import numpy as np\n",
    "import pandas as pd\n",
    "from geopy.geocoders import Nominatim\n",
    "import folium"
   ]
  },
  {
   "cell_type": "markdown",
   "metadata": {},
   "source": [
    "Request Website"
   ]
  },
  {
   "cell_type": "code",
   "execution_count": 4,
   "metadata": {},
   "outputs": [],
   "source": [
    "result = requests.get('https://en.wikipedia.org/wiki/List_of_postal_codes_of_Canada:_M')"
   ]
  },
  {
   "cell_type": "markdown",
   "metadata": {},
   "source": [
    "Use BeautifulSoup and Clean Up NA "
   ]
  },
  {
   "cell_type": "code",
   "execution_count": 5,
   "metadata": {},
   "outputs": [],
   "source": [
    "soup = BeautifulSoup(result.content, 'html.parser')\n",
    "table = soup.find('table')\n",
    "trs = table.find_all('tr')\n",
    "rows = []\n",
    "for tr in trs:\n",
    "    i = tr.find_all('td')\n",
    "    if i:\n",
    "        rows.append(i)\n",
    "        \n",
    "lst = []\n",
    "for row in rows:\n",
    "    postalcode = row[0].text.rstrip()\n",
    "    borough = row[1].text.rstrip()\n",
    "    neighborhood = row[2].text.rstrip()\n",
    "    if borough != 'Not assigned':\n",
    "        if neighborhood == 'Not assigned':\n",
    "            neighborhood = borough\n",
    "        lst.append([postalcode, borough, neighborhood])"
   ]
  },
  {
   "cell_type": "markdown",
   "metadata": {},
   "source": [
    "Set Dataframe"
   ]
  },
  {
   "cell_type": "code",
   "execution_count": 6,
   "metadata": {},
   "outputs": [],
   "source": [
    "cols = ['PostalCode', 'Borough', 'Neighborhood']\n",
    "df = pd.DataFrame(lst, columns=cols)\n",
    "\n",
    "df = df.groupby('PostalCode').agg(\n",
    "    {\n",
    "        'Borough':'first', \n",
    "        'Neighborhood': ', '.join,}\n",
    "    ).reset_index()"
   ]
  },
  {
   "cell_type": "markdown",
   "metadata": {},
   "source": [
    "More than one neighborhood shown in one postal code area"
   ]
  },
  {
   "cell_type": "code",
   "execution_count": 7,
   "metadata": {},
   "outputs": [
    {
     "data": {
      "text/html": [
       "<div>\n",
       "<style scoped>\n",
       "    .dataframe tbody tr th:only-of-type {\n",
       "        vertical-align: middle;\n",
       "    }\n",
       "\n",
       "    .dataframe tbody tr th {\n",
       "        vertical-align: top;\n",
       "    }\n",
       "\n",
       "    .dataframe thead th {\n",
       "        text-align: right;\n",
       "    }\n",
       "</style>\n",
       "<table border=\"1\" class=\"dataframe\">\n",
       "  <thead>\n",
       "    <tr style=\"text-align: right;\">\n",
       "      <th></th>\n",
       "      <th>PostalCode</th>\n",
       "      <th>Borough</th>\n",
       "      <th>Neighborhood</th>\n",
       "    </tr>\n",
       "  </thead>\n",
       "  <tbody>\n",
       "    <tr>\n",
       "      <th>0</th>\n",
       "      <td>M1B</td>\n",
       "      <td>Scarborough</td>\n",
       "      <td>Malvern, Rouge</td>\n",
       "    </tr>\n",
       "    <tr>\n",
       "      <th>1</th>\n",
       "      <td>M1C</td>\n",
       "      <td>Scarborough</td>\n",
       "      <td>Rouge Hill, Port Union, Highland Creek</td>\n",
       "    </tr>\n",
       "    <tr>\n",
       "      <th>2</th>\n",
       "      <td>M1E</td>\n",
       "      <td>Scarborough</td>\n",
       "      <td>Guildwood, Morningside, West Hill</td>\n",
       "    </tr>\n",
       "    <tr>\n",
       "      <th>3</th>\n",
       "      <td>M1G</td>\n",
       "      <td>Scarborough</td>\n",
       "      <td>Woburn</td>\n",
       "    </tr>\n",
       "    <tr>\n",
       "      <th>4</th>\n",
       "      <td>M1H</td>\n",
       "      <td>Scarborough</td>\n",
       "      <td>Cedarbrae</td>\n",
       "    </tr>\n",
       "  </tbody>\n",
       "</table>\n",
       "</div>"
      ],
      "text/plain": [
       "  PostalCode      Borough                            Neighborhood\n",
       "0        M1B  Scarborough                          Malvern, Rouge\n",
       "1        M1C  Scarborough  Rouge Hill, Port Union, Highland Creek\n",
       "2        M1E  Scarborough       Guildwood, Morningside, West Hill\n",
       "3        M1G  Scarborough                                  Woburn\n",
       "4        M1H  Scarborough                               Cedarbrae"
      ]
     },
     "execution_count": 7,
     "metadata": {},
     "output_type": "execute_result"
    }
   ],
   "source": [
    "df.head()"
   ]
  },
  {
   "cell_type": "markdown",
   "metadata": {},
   "source": [
    "Shape Function"
   ]
  },
  {
   "cell_type": "code",
   "execution_count": 8,
   "metadata": {},
   "outputs": [
    {
     "data": {
      "text/plain": [
       "(103, 3)"
      ]
     },
     "execution_count": 8,
     "metadata": {},
     "output_type": "execute_result"
    }
   ],
   "source": [
    "df.shape"
   ]
  },
  {
   "cell_type": "markdown",
   "metadata": {},
   "source": [
    "*GEO CODER QUESTION*"
   ]
  },
  {
   "cell_type": "code",
   "execution_count": 9,
   "metadata": {},
   "outputs": [
    {
     "name": "stdout",
     "output_type": "stream",
     "text": [
      "--2020-07-04 10:10:58--  http://cocl.us/Geospatial_data/\n",
      "Resolving cocl.us (cocl.us)... 158.85.108.86, 169.48.113.194, 158.85.108.83\n",
      "Connecting to cocl.us (cocl.us)|158.85.108.86|:80... connected.\n",
      "HTTP request sent, awaiting response... 301 Moved Permanently\n",
      "Location: https://cocl.us/Geospatial_data/ [following]\n",
      "--2020-07-04 10:10:59--  https://cocl.us/Geospatial_data/\n",
      "Connecting to cocl.us (cocl.us)|158.85.108.86|:443... connected.\n",
      "HTTP request sent, awaiting response... 301 Moved Permanently\n",
      "Location: https://ibm.box.com/shared/static/9afzr83pps4pwf2smjjcf1y5mvgb18rr.csv [following]\n",
      "--2020-07-04 10:11:00--  https://ibm.box.com/shared/static/9afzr83pps4pwf2smjjcf1y5mvgb18rr.csv\n",
      "Resolving ibm.box.com (ibm.box.com)... 107.152.27.197\n",
      "Connecting to ibm.box.com (ibm.box.com)|107.152.27.197|:443... connected.\n",
      "HTTP request sent, awaiting response... 301 Moved Permanently\n",
      "Location: /public/static/9afzr83pps4pwf2smjjcf1y5mvgb18rr.csv [following]\n",
      "--2020-07-04 10:11:00--  https://ibm.box.com/public/static/9afzr83pps4pwf2smjjcf1y5mvgb18rr.csv\n",
      "Reusing existing connection to ibm.box.com:443.\n",
      "HTTP request sent, awaiting response... 301 Moved Permanently\n",
      "Location: https://ibm.ent.box.com/public/static/9afzr83pps4pwf2smjjcf1y5mvgb18rr.csv [following]\n",
      "--2020-07-04 10:11:00--  https://ibm.ent.box.com/public/static/9afzr83pps4pwf2smjjcf1y5mvgb18rr.csv\n",
      "Resolving ibm.ent.box.com (ibm.ent.box.com)... 107.152.27.211\n",
      "Connecting to ibm.ent.box.com (ibm.ent.box.com)|107.152.27.211|:443... connected.\n",
      "HTTP request sent, awaiting response... 302 Found\n",
      "Location: https://public.boxcloud.com/d/1/b1!8Mw1W87Yt09BJah0fpfnMqunXD_V80ROY12GNHJzetJM6bRptFCoUg-4XS9lc0DYbLufEwE07Q1ednQo697URGteky016zE9noLto3_XuLb6-3BqDyOre8BDyyst8Lx6f9Z4tepbiIua4ODW_YgkvJ7MGkbqikzP3kjphhEyPk31ZZ7AvgdYOzYr8rANYmGSA6BGkhcMpqrgC1aMuLtMzlxXxxBx6WzucvgwRRGub0d5U-suo8l_kEvQZUSKfTTkSIP8m3qeGj4MJIifL04zE3T42pQLVpYE2CkqJM2DRBe85-4UQIvTKIoMjnIYG4lj82d7FvpCh6QEtKZbKplPt2dz7brcrcA2g3gtRFSnEN9wr4OTOWDt-SAzuc0pXV2GCTe14aSOYarWCLXsF7RwygOA69-5_QTpqYmsjCtDnV1hFFUgRjssDvYPQmkXmx7nX9TvCaGV-_EgYQVujP7KzF6B7Qn3xFtwJypqwzI6Mf3ZAuofi6g0lsjT2hrV5BtljAb-JuOMXz7go_esHyhwfDMXx2kgc4PO1iOVonQ1uZQiiIDbD0HWivnvm9tX6aCW9PM9G4lIZSTSdsVaDO1_gHKBEAVgPHMl8szT7Xypz3kaGd0ZjRCcYCqe2VRoeeKWE3ICBPVU-W0ZdVXUCUgGcUBYfezVJPb3OnKKLhQlzlqZxfXaiaUmEjTONZdqIOFD-AVcVBP0yxnjC4sWN_GlEXSJelsVLgmgcW5zA8azbMhCD9peYZUN6-_6MYgd5Ts8H8jKUBTnVISVf4hljWT33OHWh8NEisDFb8MM-kj5jNUD_ho_USwNcaVviYpO5u_yFEOtIkkUg9mRQJDH61f69reyHGRPCLUP4cIfl6J3UTlJTvUlJQmjCbj_04dm_peBsUSUf-ubnrOke-rtJAeh-JWY7E6Jto9WSyL6m9qbjMLhAvBEs9KicMibtYOH540cDwOfcpVLzl7baMBvhSuRtG-110Mk7Yjj2gwm0WFOc1Zo4eqt47T8Fb0Uy7ihmjf6NJslfcxtpWEWTN-V8rK6SjXBW2J-NsshOsrJPRbAI4ozXaNSlKiTcbT4BmkEG3wUsaBoOnWtgIMPffYgIFYOoSS92E6AXoUMIAvwj3cEI24Re15l9FFzSmuQPObP45-nm7PUagzUNhu-E9SiQBv38k-9Hu3Hq9BUZ8MzzKl4o4x6ZHbLazBM6KHhpnYipw8q2kVKL3Gkx5xci0ygMaMy7VVuswhp0RhYqYcncUFt1A3ZjCzbWyIqE_vvD_QPfV4HQEPnYQNCUPTkI4DKcc_nhdbpkgWdM601lCOTp7DlolizE1y-C1ZlU-JjfH3NIlwn9m4Mo5qgvoKhx82D1B57uFARYQmFnf8b0gkJbtFg3MzkCmHPDsr8Y8Yuco6M6DeLIgErr3fh9pVPFAfP6JBoQtVM7mv3u2hNVB5GMj3f-evE/download [following]\n",
      "--2020-07-04 10:11:01--  https://public.boxcloud.com/d/1/b1!8Mw1W87Yt09BJah0fpfnMqunXD_V80ROY12GNHJzetJM6bRptFCoUg-4XS9lc0DYbLufEwE07Q1ednQo697URGteky016zE9noLto3_XuLb6-3BqDyOre8BDyyst8Lx6f9Z4tepbiIua4ODW_YgkvJ7MGkbqikzP3kjphhEyPk31ZZ7AvgdYOzYr8rANYmGSA6BGkhcMpqrgC1aMuLtMzlxXxxBx6WzucvgwRRGub0d5U-suo8l_kEvQZUSKfTTkSIP8m3qeGj4MJIifL04zE3T42pQLVpYE2CkqJM2DRBe85-4UQIvTKIoMjnIYG4lj82d7FvpCh6QEtKZbKplPt2dz7brcrcA2g3gtRFSnEN9wr4OTOWDt-SAzuc0pXV2GCTe14aSOYarWCLXsF7RwygOA69-5_QTpqYmsjCtDnV1hFFUgRjssDvYPQmkXmx7nX9TvCaGV-_EgYQVujP7KzF6B7Qn3xFtwJypqwzI6Mf3ZAuofi6g0lsjT2hrV5BtljAb-JuOMXz7go_esHyhwfDMXx2kgc4PO1iOVonQ1uZQiiIDbD0HWivnvm9tX6aCW9PM9G4lIZSTSdsVaDO1_gHKBEAVgPHMl8szT7Xypz3kaGd0ZjRCcYCqe2VRoeeKWE3ICBPVU-W0ZdVXUCUgGcUBYfezVJPb3OnKKLhQlzlqZxfXaiaUmEjTONZdqIOFD-AVcVBP0yxnjC4sWN_GlEXSJelsVLgmgcW5zA8azbMhCD9peYZUN6-_6MYgd5Ts8H8jKUBTnVISVf4hljWT33OHWh8NEisDFb8MM-kj5jNUD_ho_USwNcaVviYpO5u_yFEOtIkkUg9mRQJDH61f69reyHGRPCLUP4cIfl6J3UTlJTvUlJQmjCbj_04dm_peBsUSUf-ubnrOke-rtJAeh-JWY7E6Jto9WSyL6m9qbjMLhAvBEs9KicMibtYOH540cDwOfcpVLzl7baMBvhSuRtG-110Mk7Yjj2gwm0WFOc1Zo4eqt47T8Fb0Uy7ihmjf6NJslfcxtpWEWTN-V8rK6SjXBW2J-NsshOsrJPRbAI4ozXaNSlKiTcbT4BmkEG3wUsaBoOnWtgIMPffYgIFYOoSS92E6AXoUMIAvwj3cEI24Re15l9FFzSmuQPObP45-nm7PUagzUNhu-E9SiQBv38k-9Hu3Hq9BUZ8MzzKl4o4x6ZHbLazBM6KHhpnYipw8q2kVKL3Gkx5xci0ygMaMy7VVuswhp0RhYqYcncUFt1A3ZjCzbWyIqE_vvD_QPfV4HQEPnYQNCUPTkI4DKcc_nhdbpkgWdM601lCOTp7DlolizE1y-C1ZlU-JjfH3NIlwn9m4Mo5qgvoKhx82D1B57uFARYQmFnf8b0gkJbtFg3MzkCmHPDsr8Y8Yuco6M6DeLIgErr3fh9pVPFAfP6JBoQtVM7mv3u2hNVB5GMj3f-evE/download\n",
      "Resolving public.boxcloud.com (public.boxcloud.com)... 107.152.29.200\n",
      "Connecting to public.boxcloud.com (public.boxcloud.com)|107.152.29.200|:443... connected.\n",
      "HTTP request sent, awaiting response... 200 OK\n",
      "Length: 2891 (2.8K) [text/csv]\n",
      "Saving to: ‘GeoCord.csv’\n",
      "\n",
      "GeoCord.csv         100%[===================>]   2.82K  --.-KB/s    in 0.001s  \n",
      "\n",
      "2020-07-04 10:11:01 (1.85 MB/s) - ‘GeoCord.csv’ saved [2891/2891]\n",
      "\n"
     ]
    }
   ],
   "source": [
    "!wget -O GeoCord.csv http://cocl.us/Geospatial_data/"
   ]
  },
  {
   "cell_type": "code",
   "execution_count": 21,
   "metadata": {},
   "outputs": [
    {
     "data": {
      "text/html": [
       "<div>\n",
       "<style scoped>\n",
       "    .dataframe tbody tr th:only-of-type {\n",
       "        vertical-align: middle;\n",
       "    }\n",
       "\n",
       "    .dataframe tbody tr th {\n",
       "        vertical-align: top;\n",
       "    }\n",
       "\n",
       "    .dataframe thead th {\n",
       "        text-align: right;\n",
       "    }\n",
       "</style>\n",
       "<table border=\"1\" class=\"dataframe\">\n",
       "  <thead>\n",
       "    <tr style=\"text-align: right;\">\n",
       "      <th></th>\n",
       "      <th>Postal Code</th>\n",
       "      <th>Latitude</th>\n",
       "      <th>Longitude</th>\n",
       "    </tr>\n",
       "  </thead>\n",
       "  <tbody>\n",
       "    <tr>\n",
       "      <th>0</th>\n",
       "      <td>M1B</td>\n",
       "      <td>43.806686</td>\n",
       "      <td>-79.194353</td>\n",
       "    </tr>\n",
       "    <tr>\n",
       "      <th>1</th>\n",
       "      <td>M1C</td>\n",
       "      <td>43.784535</td>\n",
       "      <td>-79.160497</td>\n",
       "    </tr>\n",
       "    <tr>\n",
       "      <th>2</th>\n",
       "      <td>M1E</td>\n",
       "      <td>43.763573</td>\n",
       "      <td>-79.188711</td>\n",
       "    </tr>\n",
       "    <tr>\n",
       "      <th>3</th>\n",
       "      <td>M1G</td>\n",
       "      <td>43.770992</td>\n",
       "      <td>-79.216917</td>\n",
       "    </tr>\n",
       "    <tr>\n",
       "      <th>4</th>\n",
       "      <td>M1H</td>\n",
       "      <td>43.773136</td>\n",
       "      <td>-79.239476</td>\n",
       "    </tr>\n",
       "  </tbody>\n",
       "</table>\n",
       "</div>"
      ],
      "text/plain": [
       "  Postal Code   Latitude  Longitude\n",
       "0         M1B  43.806686 -79.194353\n",
       "1         M1C  43.784535 -79.160497\n",
       "2         M1E  43.763573 -79.188711\n",
       "3         M1G  43.770992 -79.216917\n",
       "4         M1H  43.773136 -79.239476"
      ]
     },
     "execution_count": 21,
     "metadata": {},
     "output_type": "execute_result"
    }
   ],
   "source": [
    "df_cord = pd.read_csv('GeoCord.csv') # Read the csv data\n",
    "df_cord.head()"
   ]
  },
  {
   "cell_type": "code",
   "execution_count": 22,
   "metadata": {},
   "outputs": [],
   "source": [
    "df['Latitude'] = np.nan\n",
    "df['Longitude'] = np.nan"
   ]
  },
  {
   "cell_type": "code",
   "execution_count": 30,
   "metadata": {},
   "outputs": [],
   "source": [
    "#To check row names\n",
    "#df.head()\n",
    "#df_cord.head()"
   ]
  },
  {
   "cell_type": "code",
   "execution_count": 33,
   "metadata": {},
   "outputs": [
    {
     "data": {
      "text/html": [
       "<div>\n",
       "<style scoped>\n",
       "    .dataframe tbody tr th:only-of-type {\n",
       "        vertical-align: middle;\n",
       "    }\n",
       "\n",
       "    .dataframe tbody tr th {\n",
       "        vertical-align: top;\n",
       "    }\n",
       "\n",
       "    .dataframe thead th {\n",
       "        text-align: right;\n",
       "    }\n",
       "</style>\n",
       "<table border=\"1\" class=\"dataframe\">\n",
       "  <thead>\n",
       "    <tr style=\"text-align: right;\">\n",
       "      <th></th>\n",
       "      <th>PostalCode</th>\n",
       "      <th>Borough</th>\n",
       "      <th>Neighborhood</th>\n",
       "      <th>Latitude</th>\n",
       "      <th>Longitude</th>\n",
       "    </tr>\n",
       "  </thead>\n",
       "  <tbody>\n",
       "    <tr>\n",
       "      <th>0</th>\n",
       "      <td>M1B</td>\n",
       "      <td>Scarborough</td>\n",
       "      <td>Malvern, Rouge</td>\n",
       "      <td>43.806686</td>\n",
       "      <td>-79.194353</td>\n",
       "    </tr>\n",
       "    <tr>\n",
       "      <th>1</th>\n",
       "      <td>M1C</td>\n",
       "      <td>Scarborough</td>\n",
       "      <td>Rouge Hill, Port Union, Highland Creek</td>\n",
       "      <td>43.784535</td>\n",
       "      <td>-79.160497</td>\n",
       "    </tr>\n",
       "    <tr>\n",
       "      <th>2</th>\n",
       "      <td>M1E</td>\n",
       "      <td>Scarborough</td>\n",
       "      <td>Guildwood, Morningside, West Hill</td>\n",
       "      <td>43.763573</td>\n",
       "      <td>-79.188711</td>\n",
       "    </tr>\n",
       "    <tr>\n",
       "      <th>3</th>\n",
       "      <td>M1G</td>\n",
       "      <td>Scarborough</td>\n",
       "      <td>Woburn</td>\n",
       "      <td>43.770992</td>\n",
       "      <td>-79.216917</td>\n",
       "    </tr>\n",
       "    <tr>\n",
       "      <th>4</th>\n",
       "      <td>M1H</td>\n",
       "      <td>Scarborough</td>\n",
       "      <td>Cedarbrae</td>\n",
       "      <td>43.773136</td>\n",
       "      <td>-79.239476</td>\n",
       "    </tr>\n",
       "  </tbody>\n",
       "</table>\n",
       "</div>"
      ],
      "text/plain": [
       "  PostalCode      Borough                            Neighborhood   Latitude  \\\n",
       "0        M1B  Scarborough                          Malvern, Rouge  43.806686   \n",
       "1        M1C  Scarborough  Rouge Hill, Port Union, Highland Creek  43.784535   \n",
       "2        M1E  Scarborough       Guildwood, Morningside, West Hill  43.763573   \n",
       "3        M1G  Scarborough                                  Woburn  43.770992   \n",
       "4        M1H  Scarborough                               Cedarbrae  43.773136   \n",
       "\n",
       "   Longitude  \n",
       "0 -79.194353  \n",
       "1 -79.160497  \n",
       "2 -79.188711  \n",
       "3 -79.216917  \n",
       "4 -79.239476  "
      ]
     },
     "execution_count": 33,
     "metadata": {},
     "output_type": "execute_result"
    }
   ],
   "source": [
    "for idx in df.index:\n",
    "    cord_idx = df_cord['Postal Code'] == df.loc[idx, 'PostalCode']\n",
    "    df.at[idx, 'Latitude'] = df_cord.loc[cord_idx, 'Latitude'].values\n",
    "    df.at[idx, 'Longitude'] = df_cord.loc[cord_idx, 'Longitude'].values\n",
    "\n",
    "df.head()"
   ]
  },
  {
   "cell_type": "code",
   "execution_count": null,
   "metadata": {},
   "outputs": [],
   "source": []
  }
 ],
 "metadata": {
  "kernelspec": {
   "display_name": "Python",
   "language": "python",
   "name": "conda-env-python-py"
  },
  "language_info": {
   "codemirror_mode": {
    "name": "ipython",
    "version": 3
   },
   "file_extension": ".py",
   "mimetype": "text/x-python",
   "name": "python",
   "nbconvert_exporter": "python",
   "pygments_lexer": "ipython3",
   "version": "3.6.10"
  }
 },
 "nbformat": 4,
 "nbformat_minor": 4
}
